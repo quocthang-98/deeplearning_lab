{
  "cells": [
    {
      "cell_type": "markdown",
      "metadata": {
        "id": "view-in-github",
        "colab_type": "text"
      },
      "source": [
        "<a href=\"https://colab.research.google.com/github/quocthang-98/deeplearning_lab/blob/main/Lab2.ipynb\" target=\"_parent\"><img src=\"https://colab.research.google.com/assets/colab-badge.svg\" alt=\"Open In Colab\"/></a>"
      ]
    },
    {
      "cell_type": "markdown",
      "metadata": {
        "id": "uD8s7PsdQVLP"
      },
      "source": [
        "# Implementing the Perceptron Algorithm in \"Just\" Python"
      ]
    },
    {
      "cell_type": "markdown",
      "metadata": {
        "id": "g-ynbuEQQVLP"
      },
      "source": [
        "In this lab, you are asked to implement the classic Perceptron by Frank Rosenblatt for binary classification (here: 0/1 class labels), which we have discussed in the lecture.\n",
        "\n",
        "In particular, you should only use \"basic\" or \"vanilla\" Python functions for this implementation. Hence, no `import`s besides matplotlib will be permitted for this homework.\n",
        "\n",
        "The goal of this lab is to familiarize yourself with NumPy implementation that we discussed in class. Hence, you may wish to explore the NumPy code from the lecture further when you implement the Perceptron in \"pure\" Python. Note that you are also asked to use the overal structure of the `Perceptron` Python `class`. While it may seem strange to you at first, it will be useful later when will discuss PyTorch for deep learning. The way PyTorch works is similar to this class (i.e., using a model `class` with `forward` and `backward` methods)."
      ]
    },
    {
      "cell_type": "markdown",
      "metadata": {
        "id": "euUY6l5lQVLQ"
      },
      "source": [
        "## 0) Imports"
      ]
    },
    {
      "cell_type": "markdown",
      "metadata": {
        "id": "2M97jU__QVLQ"
      },
      "source": [
        "**No modification required.** You should execute this code and are encouraged to explore it further, but it is recommended to  not make any alterations here."
      ]
    },
    {
      "cell_type": "code",
      "execution_count": 1,
      "metadata": {
        "id": "1Q8zFK8BQVLQ"
      },
      "outputs": [],
      "source": [
        "import matplotlib.pyplot as plt\n",
        "%matplotlib inline"
      ]
    },
    {
      "cell_type": "markdown",
      "metadata": {
        "id": "rPbPqzpkQVLQ"
      },
      "source": [
        "## 1) Loading the dataset"
      ]
    },
    {
      "cell_type": "markdown",
      "metadata": {
        "id": "sIskfvu1QVLQ"
      },
      "source": [
        "**No modification required.** You should execute this code and are encouraged to explore it further, but it is recommended to  not make any alterations here."
      ]
    },
    {
      "cell_type": "code",
      "execution_count": 25,
      "metadata": {
        "id": "NhZOsgOeQVLQ",
        "outputId": "16712c27-36ad-41de-cfec-6fb646ac7ce0",
        "colab": {
          "base_uri": "https://localhost:8080/"
        }
      },
      "outputs": [
        {
          "output_type": "stream",
          "name": "stdout",
          "text": [
            "100 100\n"
          ]
        }
      ],
      "source": [
        "X, y = [], []\n",
        "\n",
        "with open('./dataset.csv', 'r') as f:\n",
        "    next(f)\n",
        "    for line in f:\n",
        "        line = line.strip()\n",
        "        if line:\n",
        "            values = line.split(',')\n",
        "        else:\n",
        "            continue\n",
        "        X.append([float(i) for i in values[:2]])\n",
        "        y.append(int(values[-1]))\n",
        "\n",
        "print(len(X), len(y))"
      ]
    },
    {
      "cell_type": "code",
      "execution_count": 30,
      "metadata": {
        "id": "IVv4B13tQVLR"
      },
      "outputs": [],
      "source": [
        "import random\n",
        "\n",
        "\n",
        "random.seed(123)\n",
        "\n",
        "idx = list(range(len(X)))\n",
        "random.shuffle(idx)\n",
        "\n",
        "X_train = [X[i] for i in idx[:80]]\n",
        "y_train = [y[i] for i in idx[:80]]\n",
        "X_test = [X[i] for i in idx[80:]]\n",
        "y_test = [y[i] for i in idx[80:]]"
      ]
    },
    {
      "cell_type": "code",
      "execution_count": 27,
      "metadata": {
        "id": "iAJnbU9gQVLR",
        "outputId": "4e190109-8863-4d93-eb5d-c784dce04d37",
        "colab": {
          "base_uri": "https://localhost:8080/",
          "height": 492
        }
      },
      "outputs": [
        {
          "output_type": "display_data",
          "data": {
            "text/plain": [
              "<Figure size 640x480 with 1 Axes>"
            ],
            "image/png": "[encoded data removed]"
          },
          "metadata": {}
        }
      ],
      "source": [
        "plt.scatter([i[0] for idx, i in enumerate(X_train) if y_train[idx] == 0],\n",
        "            [i[1] for idx, i in enumerate(X_train) if y_train[idx] == 0],\n",
        "            label='class 0', marker='o')\n",
        "\n",
        "plt.scatter([i[0] for idx, i in enumerate(X_train) if y_train[idx] == 1],\n",
        "            [i[1] for idx, i in enumerate(X_train) if y_train[idx] == 1],\n",
        "            label='class 1', marker='s')\n",
        "\n",
        "plt.title('Training set')\n",
        "plt.xlabel('feature 1')\n",
        "plt.ylabel('feature 2')\n",
        "plt.xlim([0.0, 7])\n",
        "plt.ylim([-0.8, 0.8])\n",
        "plt.legend()\n",
        "plt.show()"
      ]
    },
    {
      "cell_type": "markdown",
      "metadata": {
        "id": "WF5Nx6SpQVLR"
      },
      "source": [
        "## Defining the Perceptron model"
      ]
    },
    {
      "cell_type": "markdown",
      "metadata": {
        "id": "NIcZcXRXQVLR"
      },
      "source": [
        "Below, you need to complete the code of the Perceptron model class based on the framework I provided."
      ]
    },
    {
      "cell_type": "code",
      "execution_count": 28,
      "metadata": {
        "id": "YbWgWMHuQVLR",
        "outputId": "2f3597d1-ddac-44cd-de9b-d1706457ce12",
        "colab": {
          "base_uri": "https://localhost:8080/",
          "height": 126
        }
      },
      "outputs": [
        {
          "output_type": "error",
          "ename": "SyntaxError",
          "evalue": "invalid syntax (<ipython-input-28-41b22e303d99>, line 3)",
          "traceback": [
            "\u001b[0;36m  File \u001b[0;32m\"<ipython-input-28-41b22e303d99>\"\u001b[0;36m, line \u001b[0;32m3\u001b[0m\n\u001b[0;31m    self.weights = # <your code>\u001b[0m\n\u001b[0m                   ^\u001b[0m\n\u001b[0;31mSyntaxError\u001b[0m\u001b[0;31m:\u001b[0m invalid syntax\n"
          ]
        }
      ],
      "source": [
        "class Perceptron():\n",
        "    def __init__(self, num_features):\n",
        "        self.weights = # <your code>\n",
        "        self.bias = # <your code>\n",
        "\n",
        "    def forward(self, x):\n",
        "        linear = # <your code>\n",
        "        prediction = # <your code>\n",
        "        return prediction\n",
        "\n",
        "    def backward(self, x, y):\n",
        "        # <your code> to compute the prediction error\n",
        "\n",
        "    def train(self, x, y, epochs):\n",
        "        for e in range(epochs):\n",
        "\n",
        "            for i in range(len(y)):\n",
        "                # <your code> to update the weights and bias\n",
        "\n",
        "    def evaluate(self, x, y):\n",
        "        # <your code> to compute the prediction accuracy\n",
        "        return accuracy"
      ]
    },
    {
      "cell_type": "code",
      "source": [
        "class Perceptron():\n",
        "    def __init__(self, num_features):\n",
        "        self.weights = [0.0] * num_features\n",
        "        self.bias = 0.0\n",
        "\n",
        "    def forward(self, x):\n",
        "        linear = sum(x[i] * self.weights[i] for i in range(len(x))) + self.bias\n",
        "        prediction = 1 if linear >= 0 else 0\n",
        "        return prediction\n",
        "\n",
        "    def backward(self, x, y):\n",
        "        prediction = self.forward(x)\n",
        "        error = y - prediction\n",
        "        return error\n",
        "\n",
        "    def train(self, X, y, epochs, learning_rate=0.1):\n",
        "        for e in range(epochs):\n",
        "            for i in range(len(y)):\n",
        "                x = X[i]\n",
        "                error = self.backward(x, y[i])\n",
        "                for j in range(len(self.weights)):\n",
        "                    self.weights[j] += learning_rate * error * x[j]\n",
        "                self.bias += learning_rate * error\n",
        "\n",
        "    def evaluate(self, X, y):\n",
        "        correct = 0\n",
        "        for i in range(len(y)):\n",
        "            x = X[i]\n",
        "            prediction = self.forward(x)\n",
        "            if prediction == y[i]:\n",
        "                correct += 1\n",
        "        accuracy = correct / len(y)\n",
        "        return accuracy"
      ],
      "metadata": {
        "id": "TZJ9XYulSjMf"
      },
      "execution_count": 36,
      "outputs": []
    },
    {
      "cell_type": "markdown",
      "metadata": {
        "id": "xGiNey8TQVLR"
      },
      "source": [
        "## Training the Perceptron"
      ]
    },
    {
      "cell_type": "markdown",
      "metadata": {
        "id": "5tJHpkGbQVLR"
      },
      "source": [
        "Here, you are asked to train the perceptron for 5 epochs and print out the Perceptron weight parameters and the value of the bias unit after training.\n",
        "\n",
        "- The code should be relatively similar to the code you've seen in the lecture."
      ]
    },
    {
      "cell_type": "code",
      "execution_count": null,
      "metadata": {
        "id": "h9A0-RhBQVLR"
      },
      "outputs": [],
      "source": [
        "ppn = Perceptron(num_features=2)\n",
        "\n",
        "# <your code>"
      ]
    },
    {
      "cell_type": "code",
      "source": [
        "ppn = Perceptron(num_features=2)\n",
        "\n",
        "ppn.train(X_train, y_train, epochs=5)\n",
        "\n",
        "print(\"Weights:\", ppn.weights)\n",
        "print(\"Bias:\", ppn.bias)"
      ],
      "metadata": {
        "id": "buulZcgxSudP",
        "outputId": "67b450d4-e256-4cab-fd57-cc50fa7edb05",
        "colab": {
          "base_uri": "https://localhost:8080/"
        }
      },
      "execution_count": 41,
      "outputs": [
        {
          "output_type": "stream",
          "name": "stdout",
          "text": [
            "Weights: [0.1799999999999999, -0.13000000000000006]\n",
            "Bias: -0.4\n"
          ]
        }
      ]
    },
    {
      "cell_type": "markdown",
      "metadata": {
        "id": "D8RlZ50bQVLR"
      },
      "source": [
        "## Evaluating the model"
      ]
    },
    {
      "cell_type": "markdown",
      "metadata": {
        "id": "ksQata_sQVLR"
      },
      "source": [
        "Compute the prediction accuracy (in percent) for both the training set and the test set."
      ]
    },
    {
      "cell_type": "code",
      "execution_count": 9,
      "metadata": {
        "id": "K501AousQVLR",
        "outputId": "195b72fd-d9f4-4de9-cc67-9501ad80a616",
        "colab": {
          "base_uri": "https://localhost:8080/",
          "height": 179
        }
      },
      "outputs": [
        {
          "output_type": "error",
          "ename": "NameError",
          "evalue": "name 'train_acc' is not defined",
          "traceback": [
            "\u001b[0;31m---------------------------------------------------------------------------\u001b[0m",
            "\u001b[0;31mNameError\u001b[0m                                 Traceback (most recent call last)",
            "\u001b[0;32m<ipython-input-9-c365103ea1a1>\u001b[0m in \u001b[0;36m<cell line: 2>\u001b[0;34m()\u001b[0m\n\u001b[1;32m      1\u001b[0m \u001b[0;31m# <your code>\u001b[0m\u001b[0;34m\u001b[0m\u001b[0;34m\u001b[0m\u001b[0m\n\u001b[0;32m----> 2\u001b[0;31m \u001b[0mprint\u001b[0m\u001b[0;34m(\u001b[0m\u001b[0;34m'Train set accuracy: %.2f%%'\u001b[0m \u001b[0;34m%\u001b[0m \u001b[0;34m(\u001b[0m\u001b[0mtrain_acc\u001b[0m\u001b[0;34m*\u001b[0m\u001b[0;36m100\u001b[0m\u001b[0;34m)\u001b[0m\u001b[0;34m)\u001b[0m\u001b[0;34m\u001b[0m\u001b[0;34m\u001b[0m\u001b[0m\n\u001b[0m",
            "\u001b[0;31mNameError\u001b[0m: name 'train_acc' is not defined"
          ]
        }
      ],
      "source": [
        "# <your code>\n",
        "print('Train set accuracy: %.2f%%' % (train_acc*100))"
      ]
    },
    {
      "cell_type": "code",
      "source": [
        "train_acc = ppn.evaluate(X_train, y_train)\n",
        "print('Train set accuracy: %.2f%%' % (train_acc*100))"
      ],
      "metadata": {
        "id": "Dy6FyHLAS9o5",
        "outputId": "dd3b8373-abbe-44cc-c796-535b5a02cf86",
        "colab": {
          "base_uri": "https://localhost:8080/"
        }
      },
      "execution_count": 42,
      "outputs": [
        {
          "output_type": "stream",
          "name": "stdout",
          "text": [
            "Train set accuracy: 100.00%\n"
          ]
        }
      ]
    },
    {
      "cell_type": "code",
      "execution_count": null,
      "metadata": {
        "id": "8iJYhJ-ZQVLS"
      },
      "outputs": [],
      "source": [
        "# <your code>\n",
        "print('Test set accuracy: %.2f%%' % (test_acc*100))"
      ]
    },
    {
      "cell_type": "code",
      "source": [
        "test_acc = ppn.evaluate(X_test, y_test)\n",
        "print('Test set accuracy: %.2f%%' % (test_acc*100))"
      ],
      "metadata": {
        "id": "hvKdRVq_TCWi",
        "outputId": "776929a2-bf6e-4361-f20d-e0607d0d4cc5",
        "colab": {
          "base_uri": "https://localhost:8080/"
        }
      },
      "execution_count": 39,
      "outputs": [
        {
          "output_type": "stream",
          "name": "stdout",
          "text": [
            "Test set accuracy: 100.00%\n"
          ]
        }
      ]
    },
    {
      "cell_type": "markdown",
      "metadata": {
        "id": "rbFaAhtpQVLS"
      },
      "source": [
        "## Decision Boundary"
      ]
    },
    {
      "cell_type": "markdown",
      "metadata": {
        "id": "_OCjfTrjQVLS"
      },
      "source": [
        "Make 2 scatterplots: 1 for the training dataset and 1 for the test dataset. Draw the respective decision boundaries of the perceptron in each plot (similar to the code example you have seen in the lecture)."
      ]
    },
    {
      "cell_type": "code",
      "execution_count": 46,
      "metadata": {
        "id": "adOHTh1jQVLS",
        "outputId": "1c7a7d0d-e290-4d5f-e47f-46fed077c515",
        "colab": {
          "base_uri": "https://localhost:8080/",
          "height": 584
        }
      },
      "outputs": [
        {
          "output_type": "display_data",
          "data": {
            "text/plain": [
              "<Figure size 600x600 with 1 Axes>"
            ],
            "image/png": "[encoded data removed]"
          },
          "metadata": {}
        }
      ],
      "source": [
        "##########################\n",
        "### 2D Decision Boundary\n",
        "##########################\n",
        "\n",
        "# <your code>\n",
        "\n",
        "def plot_decision_boundary(X, y, weights, bias, title):\n",
        "    plt.figure(figsize=(6, 6))\n",
        "\n",
        "    # Separate points by class\n",
        "    class_0 = [X[i] for i in range(len(y)) if y[i] == 0]\n",
        "    class_1 = [X[i] for i in range(len(y)) if y[i] == 1]\n",
        "\n",
        "    # Plot data points for each class\n",
        "    plt.scatter([x[0] for x in class_0], [x[1] for x in class_0], color=\"blue\", label=\"Class 0\")\n",
        "    plt.scatter([x[0] for x in class_1], [x[1] for x in class_1], color=\"red\", label=\"Class 1\")\n",
        "\n",
        "    # Calculate decision boundary\n",
        "    x_values = [0, 100]\n",
        "    if weights[1] != 0:  # Avoid division by zero\n",
        "        y_values = [-(weights[0] * x + bias) / weights[1] for x in x_values]\n",
        "    else:\n",
        "        y_values = [0, 0]\n",
        "\n",
        "    # Plot decision boundary\n",
        "    plt.plot(x_values, y_values, label=\"Decision Boundary\", color=\"green\")\n",
        "    plt.xlim([0.0, 7])\n",
        "    plt.ylim([-0.8, 0.8])\n",
        "    plt.xlabel(\"x1\")\n",
        "    plt.ylabel(\"x2\")\n",
        "    plt.title(title)\n",
        "    plt.legend()\n",
        "    plt.grid(True)\n",
        "    plt.show()\n",
        "\n",
        "# Plot test dataset with decision boundary\n",
        "plot_decision_boundary(X_train, y_train, ppn.weights, ppn.bias, \"Train Dataset with Decision Boundary\")"
      ]
    }
  ],
  "metadata": {
    "kernelspec": {
      "display_name": "Python 3",
      "language": "python",
      "name": "python3"
    },
    "language_info": {
      "codemirror_mode": {
        "name": "ipython",
        "version": 3
      },
      "file_extension": ".py",
      "mimetype": "text/x-python",
      "name": "python",
      "nbconvert_exporter": "python",
      "pygments_lexer": "ipython3",
      "version": "3.7.1"
    },
    "toc": {
      "nav_menu": {},
      "number_sections": true,
      "sideBar": true,
      "skip_h1_title": false,
      "title_cell": "Table of Contents",
      "title_sidebar": "Contents",
      "toc_cell": false,
      "toc_position": {},
      "toc_section_display": true,
      "toc_window_display": false
    },
    "colab": {
      "provenance": [],
      "include_colab_link": true
    }
  },
  "nbformat": 4,
  "nbformat_minor": 0
}