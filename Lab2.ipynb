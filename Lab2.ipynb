{
  "cells": [
    {
      "cell_type": "markdown",
      "metadata": {
        "id": "view-in-github",
        "colab_type": "text"
      },
      "source": [
        "<a href=\"https://colab.research.google.com/github/quocthang-98/deeplearning_lab/blob/main/Lab2.ipynb\" target=\"_parent\"><img src=\"https://colab.research.google.com/assets/colab-badge.svg\" alt=\"Open In Colab\"/></a>"
      ]
    },
    {
      "cell_type": "markdown",
      "metadata": {
        "id": "uD8s7PsdQVLP"
      },
      "source": [
        "# Implementing the Perceptron Algorithm in \"Just\" Python"
      ]
    },
    {
      "cell_type": "markdown",
      "metadata": {
        "id": "g-ynbuEQQVLP"
      },
      "source": [
        "In this lab, you are asked to implement the classic Perceptron by Frank Rosenblatt for binary classification (here: 0/1 class labels), which we have discussed in the lecture.\n",
        "\n",
        "In particular, you should only use \"basic\" or \"vanilla\" Python functions for this implementation. Hence, no `import`s besides matplotlib will be permitted for this homework.\n",
        "\n",
        "The goal of this lab is to familiarize yourself with NumPy implementation that we discussed in class. Hence, you may wish to explore the NumPy code from the lecture further when you implement the Perceptron in \"pure\" Python. Note that you are also asked to use the overal structure of the `Perceptron` Python `class`. While it may seem strange to you at first, it will be useful later when will discuss PyTorch for deep learning. The way PyTorch works is similar to this class (i.e., using a model `class` with `forward` and `backward` methods)."
      ]
    },
    {
      "cell_type": "markdown",
      "metadata": {
        "id": "euUY6l5lQVLQ"
      },
      "source": [
        "## 0) Imports"
      ]
    },
    {
      "cell_type": "markdown",
      "metadata": {
        "id": "2M97jU__QVLQ"
      },
      "source": [
        "**No modification required.** You should execute this code and are encouraged to explore it further, but it is recommended to  not make any alterations here."
      ]
    },
    {
      "cell_type": "code",
      "execution_count": null,
      "metadata": {
        "id": "1Q8zFK8BQVLQ"
      },
      "outputs": [],
      "source": [
        "import matplotlib.pyplot as plt\n",
        "%matplotlib inline"
      ]
    },
    {
      "cell_type": "markdown",
      "metadata": {
        "id": "rPbPqzpkQVLQ"
      },
      "source": [
        "## 1) Loading the dataset"
      ]
    },
    {
      "cell_type": "markdown",
      "metadata": {
        "id": "sIskfvu1QVLQ"
      },
      "source": [
        "**No modification required.** You should execute this code and are encouraged to explore it further, but it is recommended to  not make any alterations here."
      ]
    },
    {
      "cell_type": "code",
      "execution_count": null,
      "metadata": {
        "id": "NhZOsgOeQVLQ"
      },
      "outputs": [],
      "source": [
        "X, y = [], []\n",
        "\n",
        "with open('./dataset.csv', 'r') as f:\n",
        "    next(f)\n",
        "    for line in f:\n",
        "        line = line.strip()\n",
        "        if line:\n",
        "            values = line.split(',')\n",
        "        else:\n",
        "            continue\n",
        "        X.append([float(i) for i in values[:2]])\n",
        "        y.append(int(values[-1]))\n",
        "\n",
        "print(len(X), len(y))"
      ]
    },
    {
      "cell_type": "code",
      "execution_count": null,
      "metadata": {
        "id": "IVv4B13tQVLR"
      },
      "outputs": [],
      "source": [
        "import random\n",
        "\n",
        "\n",
        "random.seed(123)\n",
        "\n",
        "idx = list(range(len(X)))\n",
        "random.shuffle(idx)\n",
        "\n",
        "X_train = [X[i] for i in idx[:80]]\n",
        "y_train = [y[i] for i in idx[:80]]\n",
        "X_test = [X[i] for i in idx[80:]]\n",
        "y_test = [y[i] for i in idx[80:]]"
      ]
    },
    {
      "cell_type": "code",
      "execution_count": null,
      "metadata": {
        "id": "iAJnbU9gQVLR"
      },
      "outputs": [],
      "source": [
        "plt.scatter([i[0] for idx, i in enumerate(X_train) if y_train[idx] == 0],\n",
        "            [i[1] for idx, i in enumerate(X_train) if y_train[idx] == 0],\n",
        "            label='class 0', marker='o')\n",
        "\n",
        "plt.scatter([i[0] for idx, i in enumerate(X_train) if y_train[idx] == 1],\n",
        "            [i[1] for idx, i in enumerate(X_train) if y_train[idx] == 1],\n",
        "            label='class 1', marker='s')\n",
        "\n",
        "plt.title('Training set')\n",
        "plt.xlabel('feature 1')\n",
        "plt.ylabel('feature 2')\n",
        "plt.xlim([0.0, 7])\n",
        "plt.ylim([-0.8, 0.8])\n",
        "plt.legend()\n",
        "plt.show()"
      ]
    },
    {
      "cell_type": "markdown",
      "metadata": {
        "id": "WF5Nx6SpQVLR"
      },
      "source": [
        "## Defining the Perceptron model"
      ]
    },
    {
      "cell_type": "markdown",
      "metadata": {
        "id": "NIcZcXRXQVLR"
      },
      "source": [
        "Below, you need to complete the code of the Perceptron model class based on the framework I provided."
      ]
    },
    {
      "cell_type": "code",
      "execution_count": null,
      "metadata": {
        "id": "YbWgWMHuQVLR"
      },
      "outputs": [],
      "source": [
        "class Perceptron():\n",
        "    def __init__(self, num_features):\n",
        "        self.weights = # <your code>\n",
        "        self.bias = # <your code>\n",
        "\n",
        "    def forward(self, x):\n",
        "        linear = # <your code>\n",
        "        prediction = # <your code>\n",
        "        return prediction\n",
        "\n",
        "    def backward(self, x, y):\n",
        "        # <your code> to compute the prediction error\n",
        "\n",
        "    def train(self, x, y, epochs):\n",
        "        for e in range(epochs):\n",
        "\n",
        "            for i in range(len(y)):\n",
        "                # <your code> to update the weights and bias\n",
        "\n",
        "    def evaluate(self, x, y):\n",
        "        # <your code> to compute the prediction accuracy\n",
        "        return accuracy"
      ]
    },
    {
      "cell_type": "markdown",
      "metadata": {
        "id": "xGiNey8TQVLR"
      },
      "source": [
        "## Training the Perceptron"
      ]
    },
    {
      "cell_type": "markdown",
      "metadata": {
        "id": "5tJHpkGbQVLR"
      },
      "source": [
        "Here, you are asked to train the perceptron for 5 epochs and print out the Perceptron weight parameters and the value of the bias unit after training.\n",
        "\n",
        "- The code should be relatively similar to the code you've seen in the lecture."
      ]
    },
    {
      "cell_type": "code",
      "execution_count": null,
      "metadata": {
        "id": "h9A0-RhBQVLR"
      },
      "outputs": [],
      "source": [
        "ppn = Perceptron(num_features=2)\n",
        "\n",
        "# <your code>"
      ]
    },
    {
      "cell_type": "markdown",
      "metadata": {
        "id": "D8RlZ50bQVLR"
      },
      "source": [
        "## Evaluating the model"
      ]
    },
    {
      "cell_type": "markdown",
      "metadata": {
        "id": "ksQata_sQVLR"
      },
      "source": [
        "Compute the prediction accuracy (in percent) for both the training set and the test set."
      ]
    },
    {
      "cell_type": "code",
      "execution_count": null,
      "metadata": {
        "id": "K501AousQVLR"
      },
      "outputs": [],
      "source": [
        "# <your code>\n",
        "print('Train set accuracy: %.2f%%' % (train_acc*100))"
      ]
    },
    {
      "cell_type": "code",
      "execution_count": null,
      "metadata": {
        "id": "8iJYhJ-ZQVLS"
      },
      "outputs": [],
      "source": [
        "# <your code>\n",
        "print('Test set accuracy: %.2f%%' % (test_acc*100))"
      ]
    },
    {
      "cell_type": "markdown",
      "metadata": {
        "id": "rbFaAhtpQVLS"
      },
      "source": [
        "## Decision Boundary"
      ]
    },
    {
      "cell_type": "markdown",
      "metadata": {
        "id": "_OCjfTrjQVLS"
      },
      "source": [
        "Make 2 scatterplots: 1 for the training dataset and 1 for the test dataset. Draw the respective decision boundaries of the perceptron in each plot (similar to the code example you have seen in the lecture)."
      ]
    },
    {
      "cell_type": "code",
      "execution_count": null,
      "metadata": {
        "id": "adOHTh1jQVLS"
      },
      "outputs": [],
      "source": [
        "##########################\n",
        "### 2D Decision Boundary\n",
        "##########################\n",
        "\n",
        "# <your code>"
      ]
    }
  ],
  "metadata": {
    "kernelspec": {
      "display_name": "Python 3",
      "language": "python",
      "name": "python3"
    },
    "language_info": {
      "codemirror_mode": {
        "name": "ipython",
        "version": 3
      },
      "file_extension": ".py",
      "mimetype": "text/x-python",
      "name": "python",
      "nbconvert_exporter": "python",
      "pygments_lexer": "ipython3",
      "version": "3.7.1"
    },
    "toc": {
      "nav_menu": {},
      "number_sections": true,
      "sideBar": true,
      "skip_h1_title": false,
      "title_cell": "Table of Contents",
      "title_sidebar": "Contents",
      "toc_cell": false,
      "toc_position": {},
      "toc_section_display": true,
      "toc_window_display": false
    },
    "colab": {
      "provenance": [],
      "include_colab_link": true
    }
  },
  "nbformat": 4,
  "nbformat_minor": 0
}