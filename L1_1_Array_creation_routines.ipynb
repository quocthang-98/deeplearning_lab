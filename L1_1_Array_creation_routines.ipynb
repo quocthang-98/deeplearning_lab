{
  "cells": [
    {
      "cell_type": "markdown",
      "metadata": {
        "id": "view-in-github",
        "colab_type": "text"
      },
      "source": [
        "<a href=\"https://colab.research.google.com/github/quocthang-98/deeplearning_lab/blob/main/L1_1_Array_creation_routines.ipynb\" target=\"_parent\"><img src=\"https://colab.research.google.com/assets/colab-badge.svg\" alt=\"Open In Colab\"/></a>"
      ]
    },
    {
      "cell_type": "markdown",
      "metadata": {
        "id": "GtTBnNHOTsku"
      },
      "source": [
        "# Array creation routines"
      ]
    },
    {
      "cell_type": "markdown",
      "metadata": {
        "id": "i6q6i0tgTskw"
      },
      "source": [
        "## Ones and zeros"
      ]
    },
    {
      "cell_type": "code",
      "execution_count": 2,
      "metadata": {
        "collapsed": true,
        "id": "531Ay0DLTskw"
      },
      "outputs": [],
      "source": [
        "import numpy as np"
      ]
    },
    {
      "cell_type": "markdown",
      "metadata": {
        "id": "axSiGCwwTskx"
      },
      "source": [
        "Create a new array of 2*2 integers, without initializing entries."
      ]
    },
    {
      "cell_type": "code",
      "execution_count": null,
      "metadata": {
        "id": "8jCSZbrnTskx",
        "outputId": "004bf3d9-2d6e-4701-97e4-3c5342445725",
        "colab": {
          "base_uri": "https://localhost:8080/"
        }
      },
      "outputs": [
        {
          "output_type": "stream",
          "name": "stdout",
          "text": [
            "arr = \n",
            " [[0.0e+000 4.9e-324]\n",
            " [9.9e-324 1.5e-323]]\n"
          ]
        }
      ],
      "source": [
        "arr = np.empty((2, 2))\n",
        "\n",
        "print('arr = \\n', arr)"
      ]
    },
    {
      "cell_type": "markdown",
      "metadata": {
        "id": "tougp4RxTsky"
      },
      "source": [
        "Let X = np.array([1,2,3], [4,5,6], np.int32).\n",
        "Create a new array with the same shape and type as X."
      ]
    },
    {
      "cell_type": "code",
      "execution_count": null,
      "metadata": {
        "id": "tfVoOPdvTsky",
        "outputId": "004c5e0b-fac7-4aab-9358-2b34b69cf145",
        "colab": {
          "base_uri": "https://localhost:8080/"
        }
      },
      "outputs": [
        {
          "output_type": "stream",
          "name": "stdout",
          "text": [
            "[[1 2 3]\n",
            " [4 5 6]]\n",
            "[[1 3 5]\n",
            " [2 4 6]]\n"
          ]
        }
      ],
      "source": [
        "X = np.array([[1,2,3], [4,5,6]], np.int32)\n",
        "Y = np.array([[1,3,5], [2,4,6]], np.int32)\n",
        "print(X)\n",
        "print(Y)\n"
      ]
    },
    {
      "cell_type": "markdown",
      "metadata": {
        "id": "wyizUFVaTsky"
      },
      "source": [
        "Create a 3-D array with ones on the diagonal and zeros elsewhere."
      ]
    },
    {
      "cell_type": "code",
      "execution_count": null,
      "metadata": {
        "id": "p4HG1zKJTskz",
        "outputId": "dcee6c82-7a5c-4ce2-8fde-d0a39bcd0dc5",
        "colab": {
          "base_uri": "https://localhost:8080/"
        }
      },
      "outputs": [
        {
          "output_type": "stream",
          "name": "stdout",
          "text": [
            "[[1. 0. 0.]\n",
            " [0. 1. 0.]\n",
            " [0. 0. 1.]]\n",
            "[[1. 0. 0.]\n",
            " [0. 1. 0.]\n",
            " [0. 0. 1.]]\n"
          ]
        }
      ],
      "source": [
        "diag1 = np.array([[1., 0., 0.],\n",
        "                  [0., 1., 0.],\n",
        "                  [0., 0., 1.]])\n",
        "\n",
        "diag2 = np.eye(3)\n",
        "\n",
        "print(diag1)\n",
        "print(diag2)\n"
      ]
    },
    {
      "cell_type": "code",
      "execution_count": null,
      "metadata": {
        "id": "uRsOS0jVTskz",
        "outputId": "2d59bd00-6dd3-4538-e2ad-957c61a4d62c"
      },
      "outputs": [
        {
          "data": {
            "text/plain": [
              "array([[ 1.,  0.,  0.],\n",
              "       [ 0.,  1.,  0.],\n",
              "       [ 0.,  0.,  1.]])"
            ]
          },
          "execution_count": 35,
          "metadata": {},
          "output_type": "execute_result"
        }
      ],
      "source": []
    },
    {
      "cell_type": "markdown",
      "metadata": {
        "id": "M8Y7KIpvTskz"
      },
      "source": [
        "Create a new array of 3*2 float numbers, filled with ones."
      ]
    },
    {
      "cell_type": "code",
      "source": [
        "arr = np.empty((3, 2), float)\n",
        "arr = np.ones_like(arr)\n",
        "\n",
        "print(arr)"
      ],
      "metadata": {
        "id": "ubtlbG_9stfW",
        "outputId": "a443bb41-04ab-4a0b-a269-8efc3fb24dba",
        "colab": {
          "base_uri": "https://localhost:8080/"
        }
      },
      "execution_count": null,
      "outputs": [
        {
          "output_type": "stream",
          "name": "stdout",
          "text": [
            "[[1. 1.]\n",
            " [1. 1.]\n",
            " [1. 1.]]\n"
          ]
        }
      ]
    },
    {
      "cell_type": "code",
      "execution_count": null,
      "metadata": {
        "id": "M7wF5yffTskz",
        "outputId": "060608d7-7321-4b4b-c061-1100eb7c5afa",
        "colab": {
          "base_uri": "https://localhost:8080/"
        }
      },
      "outputs": [
        {
          "output_type": "stream",
          "name": "stdout",
          "text": [
            "[[1. 1.]\n",
            " [1. 1.]\n",
            " [1. 1.]]\n"
          ]
        }
      ],
      "source": [
        "arr = np.array([[1., 1.],\n",
        "                [1., 1.],\n",
        "                [1., 1.]])\n",
        "\n",
        "print(arr)"
      ]
    },
    {
      "cell_type": "markdown",
      "metadata": {
        "id": "u2TOb0GMTskz"
      },
      "source": [
        "Let x = np.arange(4, dtype=np.int64). Create an array of ones with the same shape and type as X."
      ]
    },
    {
      "cell_type": "code",
      "execution_count": null,
      "metadata": {
        "id": "KF0XIai4Tskz",
        "outputId": "24705fe8-49a7-4351-d26e-6fcdc05730d7",
        "colab": {
          "base_uri": "https://localhost:8080/"
        }
      },
      "outputs": [
        {
          "output_type": "stream",
          "name": "stdout",
          "text": [
            "[1 1 1 1]\n"
          ]
        }
      ],
      "source": [
        "x = np.arange(4, dtype=np.int64)\n",
        "\n",
        "xOnesVariant = np.ones_like(x)\n",
        "\n",
        "print(xOnesVariant)"
      ]
    },
    {
      "cell_type": "markdown",
      "metadata": {
        "id": "pvrNdTvVTsk0"
      },
      "source": [
        "Create a new array of 3*2 float numbers, filled with zeros."
      ]
    },
    {
      "cell_type": "code",
      "execution_count": null,
      "metadata": {
        "id": "HgXYNxPKTsk0",
        "outputId": "a0fd8843-4d5f-43f7-cb50-82e1a383eba6",
        "colab": {
          "base_uri": "https://localhost:8080/"
        }
      },
      "outputs": [
        {
          "output_type": "stream",
          "name": "stdout",
          "text": [
            "fMat = \n",
            " [[0. 0.]\n",
            " [0. 0.]\n",
            " [0. 0.]]\n",
            "fMat2 = \n",
            " [[0. 0.]\n",
            " [0. 0.]\n",
            " [0. 0.]]\n"
          ]
        }
      ],
      "source": [
        "fMat = np.array([[0., 0.],\n",
        "                 [0., 0.],\n",
        "                 [0., 0.]])\n",
        "\n",
        "fMat2 = np.arange(6).reshape(3, 2)\n",
        "fMat2 = np.zeros_like(fMat2, float)\n",
        "\n",
        "print('fMat = \\n', fMat)\n",
        "print('fMat2 = \\n',fMat2)"
      ]
    },
    {
      "cell_type": "markdown",
      "metadata": {
        "id": "nP34r9pvTsk0"
      },
      "source": [
        "Let x = np.arange(4, dtype=np.int64). Create an array of zeros with the same shape and type as X."
      ]
    },
    {
      "cell_type": "code",
      "execution_count": null,
      "metadata": {
        "id": "kbdgpAZ2Tsk0",
        "outputId": "bf3102a6-3629-4941-fcbb-124facd16c81",
        "colab": {
          "base_uri": "https://localhost:8080/"
        }
      },
      "outputs": [
        {
          "output_type": "stream",
          "name": "stdout",
          "text": [
            "xZeros = \n",
            " [0 0 0 0]\n"
          ]
        }
      ],
      "source": [
        "x = np.arange(4, dtype=np.int64)\n",
        "\n",
        "xZeros = np.zeros_like(x)\n",
        "\n",
        "print('xZeros = \\n', xZeros)"
      ]
    },
    {
      "cell_type": "markdown",
      "metadata": {
        "id": "tM_cgVCCTsk0"
      },
      "source": [
        "Create a new array of 2*5 uints, filled with 6."
      ]
    },
    {
      "cell_type": "code",
      "source": [
        "arr = np.full((2, 5), 6, int)\n",
        "\n",
        "print('arr = \\n', arr)"
      ],
      "metadata": {
        "id": "xqslnq0WtrtM",
        "outputId": "9f51727e-a3db-4ad0-adc7-430aecdce339",
        "colab": {
          "base_uri": "https://localhost:8080/"
        }
      },
      "execution_count": null,
      "outputs": [
        {
          "output_type": "stream",
          "name": "stdout",
          "text": [
            "arr = \n",
            " [[6 6 6 6 6]\n",
            " [6 6 6 6 6]]\n"
          ]
        }
      ]
    },
    {
      "cell_type": "code",
      "execution_count": null,
      "metadata": {
        "id": "quTwyED7Tsk0",
        "outputId": "ef0495ed-61df-470a-8b85-9ad724c5fa05"
      },
      "outputs": [
        {
          "data": {
            "text/plain": [
              "array([[6, 6, 6, 6, 6],\n",
              "       [6, 6, 6, 6, 6]], dtype=uint32)"
            ]
          },
          "execution_count": 49,
          "metadata": {},
          "output_type": "execute_result"
        }
      ],
      "source": []
    },
    {
      "cell_type": "markdown",
      "metadata": {
        "id": "YVl-gJmwTsk0"
      },
      "source": [
        "Let x = np.arange(4, dtype=np.int64). Create an array of 6's with the same shape and type as X."
      ]
    },
    {
      "cell_type": "code",
      "execution_count": null,
      "metadata": {
        "id": "Ra5DZnuQTsk0",
        "outputId": "b68f905a-df86-4582-852b-66f827e4caa1",
        "colab": {
          "base_uri": "https://localhost:8080/"
        }
      },
      "outputs": [
        {
          "output_type": "stream",
          "name": "stdout",
          "text": [
            "x = \n",
            " [0 1 2 3]\n",
            "xVariant = \n",
            " [6 6 6 6]\n"
          ]
        }
      ],
      "source": [
        "x = np.arange(4, dtype=np.int64)\n",
        "\n",
        "xVariant = np.full_like(x, 6, int)\n",
        "\n",
        "print('x = \\n', x)\n",
        "print('xVariant = \\n', xVariant)"
      ]
    },
    {
      "cell_type": "markdown",
      "metadata": {
        "id": "lrckdHGPTsk0"
      },
      "source": [
        "## From existing data"
      ]
    },
    {
      "cell_type": "markdown",
      "metadata": {
        "id": "NYrhcjn0Tsk0"
      },
      "source": [
        "Create an array of [1, 2, 3]."
      ]
    },
    {
      "cell_type": "code",
      "source": [
        "arr = np.array([1, 2, 3])\n",
        "\n",
        "print(arr)"
      ],
      "metadata": {
        "id": "XXxz8QivwIkw",
        "outputId": "770babe6-2df8-48e7-8e7c-969f6b218bbe",
        "colab": {
          "base_uri": "https://localhost:8080/"
        }
      },
      "execution_count": null,
      "outputs": [
        {
          "output_type": "stream",
          "name": "stdout",
          "text": [
            "[1 2 3]\n"
          ]
        }
      ]
    },
    {
      "cell_type": "code",
      "execution_count": null,
      "metadata": {
        "id": "qijnAck9Tsk0",
        "outputId": "31086497-21cf-4422-fbe2-309a9c02a53c"
      },
      "outputs": [
        {
          "data": {
            "text/plain": [
              "array([1, 2, 3])"
            ]
          },
          "execution_count": 53,
          "metadata": {},
          "output_type": "execute_result"
        }
      ],
      "source": []
    },
    {
      "cell_type": "markdown",
      "metadata": {
        "id": "wiOPUG6VTsk0"
      },
      "source": [
        "Let x = [1, 2]. Convert it into an array."
      ]
    },
    {
      "cell_type": "code",
      "execution_count": null,
      "metadata": {
        "id": "Fj8iFvqWTsk0",
        "outputId": "8b0577ac-5769-4b9d-d9bb-d48cff3fedcd",
        "colab": {
          "base_uri": "https://localhost:8080/"
        }
      },
      "outputs": [
        {
          "output_type": "stream",
          "name": "stdout",
          "text": [
            "[1 2]\n"
          ]
        }
      ],
      "source": [
        "x = [1,2]\n",
        "xArr = np.array(x)\n",
        "\n",
        "print(xArr)"
      ]
    },
    {
      "cell_type": "markdown",
      "metadata": {
        "id": "_wyIyS0ITsk0"
      },
      "source": [
        "Let X = np.array([[1, 2], [3, 4]]). Convert it into a matrix."
      ]
    },
    {
      "cell_type": "code",
      "execution_count": null,
      "metadata": {
        "id": "wECPjaOtTsk1",
        "outputId": "3a9f1700-c552-48c4-b242-e758ad6d28ca",
        "colab": {
          "base_uri": "https://localhost:8080/"
        }
      },
      "outputs": [
        {
          "output_type": "stream",
          "name": "stdout",
          "text": [
            "[[1 2]\n",
            " [3 4]]\n"
          ]
        }
      ],
      "source": [
        "X = np.array([[1, 2], [3, 4]])\n",
        "// it is already a matrix\n",
        "\n",
        "print(X)"
      ]
    },
    {
      "cell_type": "markdown",
      "metadata": {
        "id": "YoGGxiCmTsk1"
      },
      "source": [
        "Let x = [1, 2]. Conver it into an array of `float`."
      ]
    },
    {
      "cell_type": "code",
      "execution_count": null,
      "metadata": {
        "id": "_Kaqsv9kTsk1",
        "outputId": "aa995bde-cd33-4def-c8ab-9beeaf8bccba",
        "colab": {
          "base_uri": "https://localhost:8080/"
        }
      },
      "outputs": [
        {
          "output_type": "stream",
          "name": "stdout",
          "text": [
            "[1, 2]\n",
            "[1. 2.]\n"
          ]
        }
      ],
      "source": [
        "x = [1, 2]\n",
        "print(x)\n",
        "\n",
        "x = np.array(x, float)\n",
        "print(x)"
      ]
    },
    {
      "cell_type": "markdown",
      "metadata": {
        "id": "nw7IVyrtTsk1"
      },
      "source": [
        "Let x = np.array([30]). Convert it into scalar of its single element, i.e. 30."
      ]
    },
    {
      "cell_type": "code",
      "execution_count": null,
      "metadata": {
        "id": "weRGA6hWTsk1",
        "outputId": "e6f74af1-cf13-4d43-c9b0-a9c50aa24928",
        "colab": {
          "base_uri": "https://localhost:8080/"
        }
      },
      "outputs": [
        {
          "output_type": "stream",
          "name": "stdout",
          "text": [
            "[30]\n",
            "30\n"
          ]
        }
      ],
      "source": [
        "x = np.array([30])\n",
        "\n",
        "sum = np.sum(x)\n",
        "\n",
        "print(x)\n",
        "print(sum)"
      ]
    },
    {
      "cell_type": "markdown",
      "metadata": {
        "id": "pKn5Yfs1Tsk1"
      },
      "source": [
        "Let x = np.array([1, 2, 3]). Create a array copy of x, which has a different id from x."
      ]
    },
    {
      "cell_type": "code",
      "execution_count": null,
      "metadata": {
        "id": "ECrtwhtGTsk1",
        "outputId": "f0c45d69-2e20-4413-a569-20cd1fa7f9e1",
        "colab": {
          "base_uri": "https://localhost:8080/"
        }
      },
      "outputs": [
        {
          "output_type": "stream",
          "name": "stdout",
          "text": [
            "id\t\t\t array\n",
            "139920088183216 \t [1 2 3]\n",
            "139920088314384 \t [1 2 3]\n"
          ]
        }
      ],
      "source": [
        "x = np.array([1, 2, 3])\n",
        "y = np.copy(x)\n",
        "\n",
        "print('id\\t\\t\\t array')\n",
        "print(id(x), '\\t', x)\n",
        "print(id(y), '\\t', y)\n"
      ]
    },
    {
      "cell_type": "markdown",
      "metadata": {
        "id": "jwhFGDeBTsk1"
      },
      "source": [
        "## Numerical ranges"
      ]
    },
    {
      "cell_type": "markdown",
      "metadata": {
        "id": "YsbRvLJbTsk1"
      },
      "source": [
        "Create an array of 2, 4, 6, 8, ..., 100."
      ]
    },
    {
      "cell_type": "code",
      "source": [
        "arr = np.arange(2, 101, 2)\n",
        "\n",
        "print(arr)"
      ],
      "metadata": {
        "id": "qRI_-ph8zkN_",
        "outputId": "d7834372-40bf-4381-801f-1cc1b7f3d13b",
        "colab": {
          "base_uri": "https://localhost:8080/"
        }
      },
      "execution_count": null,
      "outputs": [
        {
          "output_type": "stream",
          "name": "stdout",
          "text": [
            "[  2   4   6   8  10  12  14  16  18  20  22  24  26  28  30  32  34  36\n",
            "  38  40  42  44  46  48  50  52  54  56  58  60  62  64  66  68  70  72\n",
            "  74  76  78  80  82  84  86  88  90  92  94  96  98 100]\n"
          ]
        }
      ]
    },
    {
      "cell_type": "code",
      "execution_count": null,
      "metadata": {
        "id": "LODBCadWTsk1",
        "outputId": "704002ee-9e91-42a9-9ced-503fe8752ff7"
      },
      "outputs": [
        {
          "data": {
            "text/plain": [
              "array([  2,   4,   6,   8,  10,  12,  14,  16,  18,  20,  22,  24,  26,\n",
              "        28,  30,  32,  34,  36,  38,  40,  42,  44,  46,  48,  50,  52,\n",
              "        54,  56,  58,  60,  62,  64,  66,  68,  70,  72,  74,  76,  78,\n",
              "        80,  82,  84,  86,  88,  90,  92,  94,  96,  98, 100])"
            ]
          },
          "execution_count": 85,
          "metadata": {},
          "output_type": "execute_result"
        }
      ],
      "source": []
    },
    {
      "cell_type": "markdown",
      "metadata": {
        "id": "f2Cv6Fn7Tsk1"
      },
      "source": [
        "Create a 1-D array of 50 evenly spaced elements between 3. and 10., inclusive."
      ]
    },
    {
      "cell_type": "code",
      "source": [
        "arr = np.linspace(3, 10, 50)\n",
        "print(arr)"
      ],
      "metadata": {
        "id": "pvUCBUL-7WHc",
        "outputId": "54be0223-12f5-4912-89af-64c5db39f72a",
        "colab": {
          "base_uri": "https://localhost:8080/"
        }
      },
      "execution_count": null,
      "outputs": [
        {
          "output_type": "stream",
          "name": "stdout",
          "text": [
            "[ 3.          3.14285714  3.28571429  3.42857143  3.57142857  3.71428571\n",
            "  3.85714286  4.          4.14285714  4.28571429  4.42857143  4.57142857\n",
            "  4.71428571  4.85714286  5.          5.14285714  5.28571429  5.42857143\n",
            "  5.57142857  5.71428571  5.85714286  6.          6.14285714  6.28571429\n",
            "  6.42857143  6.57142857  6.71428571  6.85714286  7.          7.14285714\n",
            "  7.28571429  7.42857143  7.57142857  7.71428571  7.85714286  8.\n",
            "  8.14285714  8.28571429  8.42857143  8.57142857  8.71428571  8.85714286\n",
            "  9.          9.14285714  9.28571429  9.42857143  9.57142857  9.71428571\n",
            "  9.85714286 10.        ]\n"
          ]
        }
      ]
    },
    {
      "cell_type": "code",
      "execution_count": null,
      "metadata": {
        "id": "6gDKcxpUTsk6",
        "outputId": "c07a4592-d59a-4a2f-f418-556f01bc4a5f"
      },
      "outputs": [
        {
          "data": {
            "text/plain": [
              "array([  3.        ,   3.14285714,   3.28571429,   3.42857143,\n",
              "         3.57142857,   3.71428571,   3.85714286,   4.        ,\n",
              "         4.14285714,   4.28571429,   4.42857143,   4.57142857,\n",
              "         4.71428571,   4.85714286,   5.        ,   5.14285714,\n",
              "         5.28571429,   5.42857143,   5.57142857,   5.71428571,\n",
              "         5.85714286,   6.        ,   6.14285714,   6.28571429,\n",
              "         6.42857143,   6.57142857,   6.71428571,   6.85714286,\n",
              "         7.        ,   7.14285714,   7.28571429,   7.42857143,\n",
              "         7.57142857,   7.71428571,   7.85714286,   8.        ,\n",
              "         8.14285714,   8.28571429,   8.42857143,   8.57142857,\n",
              "         8.71428571,   8.85714286,   9.        ,   9.14285714,\n",
              "         9.28571429,   9.42857143,   9.57142857,   9.71428571,\n",
              "         9.85714286,  10.        ])"
            ]
          },
          "execution_count": 86,
          "metadata": {},
          "output_type": "execute_result"
        }
      ],
      "source": []
    },
    {
      "cell_type": "markdown",
      "metadata": {
        "id": "DDFomILITsk6"
      },
      "source": [
        "Create a 1-D array of 50 element spaced evenly on a log scale between 3. and 10., exclusive."
      ]
    },
    {
      "cell_type": "code",
      "source": [
        "arr = np.logspace(3, 10, 50)\n",
        "\n",
        "print(arr)"
      ],
      "metadata": {
        "id": "mI2wgujW7-Tr",
        "outputId": "52708a51-4fd9-4097-8f20-9b4993c9da44",
        "colab": {
          "base_uri": "https://localhost:8080/"
        }
      },
      "execution_count": null,
      "outputs": [
        {
          "output_type": "stream",
          "name": "stdout",
          "text": [
            "[1.00000000e+03 1.38949549e+03 1.93069773e+03 2.68269580e+03\n",
            " 3.72759372e+03 5.17947468e+03 7.19685673e+03 1.00000000e+04\n",
            " 1.38949549e+04 1.93069773e+04 2.68269580e+04 3.72759372e+04\n",
            " 5.17947468e+04 7.19685673e+04 1.00000000e+05 1.38949549e+05\n",
            " 1.93069773e+05 2.68269580e+05 3.72759372e+05 5.17947468e+05\n",
            " 7.19685673e+05 1.00000000e+06 1.38949549e+06 1.93069773e+06\n",
            " 2.68269580e+06 3.72759372e+06 5.17947468e+06 7.19685673e+06\n",
            " 1.00000000e+07 1.38949549e+07 1.93069773e+07 2.68269580e+07\n",
            " 3.72759372e+07 5.17947468e+07 7.19685673e+07 1.00000000e+08\n",
            " 1.38949549e+08 1.93069773e+08 2.68269580e+08 3.72759372e+08\n",
            " 5.17947468e+08 7.19685673e+08 1.00000000e+09 1.38949549e+09\n",
            " 1.93069773e+09 2.68269580e+09 3.72759372e+09 5.17947468e+09\n",
            " 7.19685673e+09 1.00000000e+10]\n"
          ]
        }
      ]
    },
    {
      "cell_type": "code",
      "execution_count": null,
      "metadata": {
        "id": "8-Fp8XyVTsk6",
        "outputId": "8a5ef05d-ea2e-4f79-e609-c5db9fbb3dd7"
      },
      "outputs": [
        {
          "data": {
            "text/plain": [
              "array([  1.00000000e+03,   1.38038426e+03,   1.90546072e+03,\n",
              "         2.63026799e+03,   3.63078055e+03,   5.01187234e+03,\n",
              "         6.91830971e+03,   9.54992586e+03,   1.31825674e+04,\n",
              "         1.81970086e+04,   2.51188643e+04,   3.46736850e+04,\n",
              "         4.78630092e+04,   6.60693448e+04,   9.12010839e+04,\n",
              "         1.25892541e+05,   1.73780083e+05,   2.39883292e+05,\n",
              "         3.31131121e+05,   4.57088190e+05,   6.30957344e+05,\n",
              "         8.70963590e+05,   1.20226443e+06,   1.65958691e+06,\n",
              "         2.29086765e+06,   3.16227766e+06,   4.36515832e+06,\n",
              "         6.02559586e+06,   8.31763771e+06,   1.14815362e+07,\n",
              "         1.58489319e+07,   2.18776162e+07,   3.01995172e+07,\n",
              "         4.16869383e+07,   5.75439937e+07,   7.94328235e+07,\n",
              "         1.09647820e+08,   1.51356125e+08,   2.08929613e+08,\n",
              "         2.88403150e+08,   3.98107171e+08,   5.49540874e+08,\n",
              "         7.58577575e+08,   1.04712855e+09,   1.44543977e+09,\n",
              "         1.99526231e+09,   2.75422870e+09,   3.80189396e+09,\n",
              "         5.24807460e+09,   7.24435960e+09])"
            ]
          },
          "execution_count": 88,
          "metadata": {},
          "output_type": "execute_result"
        }
      ],
      "source": []
    },
    {
      "cell_type": "markdown",
      "metadata": {
        "id": "sOorhNKTTsk6"
      },
      "source": [
        "## Building matrices"
      ]
    },
    {
      "cell_type": "markdown",
      "metadata": {
        "id": "4TY-6b7QTsk6"
      },
      "source": [
        "Let X = np.array([[ 0,  1,  2,  3],\n",
        "                  [ 4,  5,  6,  7],\n",
        "                 [ 8,  9, 10, 11]]).\n",
        "                 Get the diagonal of X, that is, [0, 5, 10]."
      ]
    },
    {
      "cell_type": "code",
      "source": [
        "X = np.array([[ 0, 1, 2, 3], [ 4, 5, 6, 7], [ 8, 9, 10, 11]])\n",
        "\n",
        "arr = np.diag(X)\n",
        "\n",
        "print(arr)"
      ],
      "metadata": {
        "id": "kAroyGbA8WE4",
        "outputId": "9f9461c3-b780-423a-bcf1-bb394cfdd1a5",
        "colab": {
          "base_uri": "https://localhost:8080/"
        }
      },
      "execution_count": null,
      "outputs": [
        {
          "output_type": "stream",
          "name": "stdout",
          "text": [
            "[ 0  5 10]\n"
          ]
        }
      ]
    },
    {
      "cell_type": "code",
      "execution_count": null,
      "metadata": {
        "id": "TSFDaQPZTsk6",
        "outputId": "232754e8-2d63-44b3-e22f-f61b8ccd1ad5"
      },
      "outputs": [
        {
          "data": {
            "text/plain": [
              "array([ 0,  5, 10])"
            ]
          },
          "execution_count": 93,
          "metadata": {},
          "output_type": "execute_result"
        }
      ],
      "source": [
        "X = np.array([[ 0, 1, 2, 3], [ 4, 5, 6, 7], [ 8, 9, 10, 11]])\n"
      ]
    },
    {
      "cell_type": "markdown",
      "metadata": {
        "id": "CXpsNmqMTsk6"
      },
      "source": [
        "Create a 2-D array whose diagonal equals [1, 2, 3, 4] and 0's elsewhere."
      ]
    },
    {
      "cell_type": "code",
      "source": [
        "arr = np.diag([1, 2, 3, 4])\n",
        "\n",
        "print(arr)"
      ],
      "metadata": {
        "id": "5OEfl4k58wf9",
        "outputId": "4f341660-51c6-4d4a-bff4-6b80275eec6d",
        "colab": {
          "base_uri": "https://localhost:8080/"
        }
      },
      "execution_count": null,
      "outputs": [
        {
          "output_type": "stream",
          "name": "stdout",
          "text": [
            "[[1 0 0 0]\n",
            " [0 2 0 0]\n",
            " [0 0 3 0]\n",
            " [0 0 0 4]]\n"
          ]
        }
      ]
    },
    {
      "cell_type": "code",
      "execution_count": null,
      "metadata": {
        "id": "4jURFH8aTsk6",
        "outputId": "81368b98-c7c0-4399-b08d-a2337b3270df"
      },
      "outputs": [
        {
          "data": {
            "text/plain": [
              "array([[1, 0, 0, 0],\n",
              "       [0, 2, 0, 0],\n",
              "       [0, 0, 3, 0],\n",
              "       [0, 0, 0, 4]])"
            ]
          },
          "execution_count": 95,
          "metadata": {},
          "output_type": "execute_result"
        }
      ],
      "source": []
    },
    {
      "cell_type": "markdown",
      "metadata": {
        "id": "u0PJR1fHTsk6"
      },
      "source": [
        "Create an array which looks like below.\n",
        "array([[ 0.,  0.,  0.,  0.,  0.],\n",
        "       [ 1.,  0.,  0.,  0.,  0.],\n",
        "       [ 1.,  1.,  0.,  0.,  0.]])"
      ]
    },
    {
      "cell_type": "code",
      "source": [
        "arr = np.tril(np.ones((3, 5)), -1)\n",
        "\n",
        "print(arr)"
      ],
      "metadata": {
        "id": "3ZNYVJE89r_d",
        "outputId": "d7cbce95-a80f-4f53-85c7-c910449132e8",
        "colab": {
          "base_uri": "https://localhost:8080/"
        }
      },
      "execution_count": null,
      "outputs": [
        {
          "output_type": "stream",
          "name": "stdout",
          "text": [
            "[[0. 0. 0. 0. 0.]\n",
            " [1. 0. 0. 0. 0.]\n",
            " [1. 1. 0. 0. 0.]]\n"
          ]
        }
      ]
    },
    {
      "cell_type": "code",
      "execution_count": null,
      "metadata": {
        "id": "mrTDXqPGTsk6",
        "outputId": "7be31e5e-51be-492e-d66f-52ee6e23eb24"
      },
      "outputs": [
        {
          "data": {
            "text/plain": [
              "array([[ 0.,  0.,  0.,  0.,  0.],\n",
              "       [ 1.,  0.,  0.,  0.,  0.],\n",
              "       [ 1.,  1.,  0.,  0.,  0.]])"
            ]
          },
          "execution_count": 97,
          "metadata": {},
          "output_type": "execute_result"
        }
      ],
      "source": []
    },
    {
      "cell_type": "markdown",
      "metadata": {
        "id": "iBTfFLYXTsk6"
      },
      "source": [
        "Create an array which looks like below.\n",
        "array([[ 0,  0,  0],\n",
        "       [ 4,  0,  0],\n",
        "       [ 7,  8,  0],\n",
        "       [10, 11, 12]])"
      ]
    },
    {
      "cell_type": "code",
      "execution_count": 11,
      "metadata": {
        "id": "VbyWlvv0Tsk6",
        "outputId": "b6b23a88-d2de-43ed-8a94-7dd02f72c29d",
        "colab": {
          "base_uri": "https://localhost:8080/"
        }
      },
      "outputs": [
        {
          "output_type": "stream",
          "name": "stdout",
          "text": [
            "[[ 0.  0.  0.]\n",
            " [ 4.  0.  0.]\n",
            " [ 7.  8.  0.]\n",
            " [10. 11. 12.]]\n"
          ]
        }
      ],
      "source": [
        "arr = np.tril(np.ones((4, 3)), -1)\n",
        "\n",
        "rowCount = arr.shape[0]\n",
        "colCount = arr.shape[1]\n",
        "rowIndex = 0\n",
        "colIndex = 0\n",
        "\n",
        "while (rowIndex != rowCount):\n",
        "  if (arr[rowIndex][colIndex] == 1):\n",
        "    arr[rowIndex][colIndex] = (rowIndex * colCount + colIndex) + 1\n",
        "  colIndex += 1\n",
        "  if (colIndex == colCount):\n",
        "    colIndex = 0\n",
        "    rowIndex += 1\n",
        "\n",
        "print(arr)\n"
      ]
    },
    {
      "cell_type": "markdown",
      "metadata": {
        "id": "2T6GDyHATsk6"
      },
      "source": [
        "Create an array which looks like below. array([[ 1,  2,  3],\n",
        "       [ 4,  5,  6],\n",
        "       [ 0,  8,  9],\n",
        "       [ 0,  0, 12]])"
      ]
    },
    {
      "cell_type": "code",
      "execution_count": 14,
      "metadata": {
        "id": "0SzIePhnTsk6",
        "outputId": "1556c69a-be44-4703-9f02-144de2d99e40",
        "colab": {
          "base_uri": "https://localhost:8080/"
        }
      },
      "outputs": [
        {
          "output_type": "stream",
          "name": "stdout",
          "text": [
            "[[ 1.  2.  3.]\n",
            " [ 4.  5.  6.]\n",
            " [ 0.  8.  9.]\n",
            " [ 0.  0. 12.]]\n"
          ]
        }
      ],
      "source": [
        "arr = np.triu(np.ones((4, 3)), -1)\n",
        "\n",
        "rowCount = arr.shape[0]\n",
        "colCount = arr.shape[1]\n",
        "rowIndex = 0\n",
        "colIndex = 0\n",
        "\n",
        "while (rowIndex != rowCount):\n",
        "  if (arr[rowIndex][colIndex] == 1):\n",
        "    arr[rowIndex][colIndex] = (rowIndex * colCount + colIndex) + 1\n",
        "  colIndex += 1\n",
        "  if (colIndex == colCount):\n",
        "    colIndex = 0\n",
        "    rowIndex += 1\n",
        "\n",
        "print(arr)"
      ]
    }
  ],
  "metadata": {
    "kernelspec": {
      "display_name": "Python 3",
      "name": "python3"
    },
    "language_info": {
      "name": "python"
    },
    "colab": {
      "provenance": [],
      "include_colab_link": true
    }
  },
  "nbformat": 4,
  "nbformat_minor": 0
}