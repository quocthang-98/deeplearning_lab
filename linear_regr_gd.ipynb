{
  "cells": [
    {
      "cell_type": "markdown",
      "metadata": {
        "id": "view-in-github",
        "colab_type": "text"
      },
      "source": [
        "<a href=\"https://colab.research.google.com/github/quocthang-98/deeplearning_lab/blob/main/linear_regr_gd.ipynb\" target=\"_parent\"><img src=\"https://colab.research.google.com/assets/colab-badge.svg\" alt=\"Open In Colab\"/></a>"
      ]
    },
    {
      "cell_type": "markdown",
      "metadata": {
        "id": "SqLUqM3WyxTi"
      },
      "source": [
        "# Linear Regression with Gradient Descent"
      ]
    },
    {
      "cell_type": "markdown",
      "metadata": {
        "id": "HOqezInmyxTi"
      },
      "source": [
        "![](figures/adaline-concept.png)"
      ]
    },
    {
      "cell_type": "markdown",
      "metadata": {
        "id": "xx4d-_ECyxTi"
      },
      "source": [
        "Note that linear regression and Adaline are very similar. The only difference is that we apply a threshold function for converting the outputs from continuous targets for predictions. The derivative and training procedure are identical to Adaline though. You can compare the two notebooks (this one and `adaline-sgd.ipynb`) side by side as shown below to see the relationship:\n",
        "\n",
        "![](figures/adaline-vs-linreg.png)"
      ]
    },
    {
      "cell_type": "code",
      "source": [
        "from google.colab import drive\n",
        "drive.mount('/content/gdrive')"
      ],
      "metadata": {
        "colab": {
          "base_uri": "https://localhost:8080/"
        },
        "id": "qpzX2Tynz6j_",
        "outputId": "d1f39e52-194d-4c88-c2fe-09100ec75cf9"
      },
      "execution_count": null,
      "outputs": [
        {
          "output_type": "stream",
          "name": "stdout",
          "text": [
            "Mounted at /content/gdrive\n"
          ]
        }
      ]
    },
    {
      "cell_type": "code",
      "source": [
        "import os\n",
        "import sys\n",
        "os.chdir('/content/gdrive/My Drive/Teaching/Deep_Learning/DL_for_IU/L05-grad-descent/code')\n",
        "sys.path.append(\"/content/gdrive/My Drive/Teaching/Deep_Learning/DL_for_IU/L05-grad-descent/code\")\n",
        "!pwd"
      ],
      "metadata": {
        "colab": {
          "base_uri": "https://localhost:8080/"
        },
        "id": "lgVu6dT7z6o5",
        "outputId": "3ec9ebfa-79d8-442a-b799-bb55ece9c1e7"
      },
      "execution_count": null,
      "outputs": [
        {
          "output_type": "stream",
          "name": "stdout",
          "text": [
            "/content/gdrive/My Drive/Teaching/Deep_Learning/DL_for_IU/L05-grad-descent/code\n"
          ]
        }
      ]
    },
    {
      "cell_type": "code",
      "execution_count": null,
      "metadata": {
        "id": "qByfUFY0yxTi"
      },
      "outputs": [],
      "source": [
        "import pandas as pd\n",
        "import matplotlib.pyplot as plt\n",
        "import torch\n",
        "%matplotlib inline"
      ]
    },
    {
      "cell_type": "markdown",
      "metadata": {
        "id": "msgwn_FuyxTj"
      },
      "source": [
        "<br>\n",
        "<br>"
      ]
    },
    {
      "cell_type": "markdown",
      "metadata": {
        "id": "_G7PoPhHyxTj"
      },
      "source": [
        "## Load & Prepare a Toy Dataset"
      ]
    },
    {
      "cell_type": "code",
      "execution_count": null,
      "metadata": {
        "colab": {
          "base_uri": "https://localhost:8080/",
          "height": 206
        },
        "id": "JRzlrjXNyxTj",
        "outputId": "966144d5-9961-4fe8-e125-f2b63dd5bd68"
      },
      "outputs": [
        {
          "output_type": "execute_result",
          "data": {
            "text/plain": [
              "           x1        x2          y\n",
              "995 -0.942094 -0.835856 -22.324428\n",
              "996  1.222445 -0.403177 -52.121493\n",
              "997 -0.112466 -1.688230 -57.043196\n",
              "998 -0.403459 -0.412272 -27.701833\n",
              "999  0.021351 -0.499017  -9.804714"
            ],
            "text/html": [
              "\n",
              "  <div id=\"df-68b767ca-0e2a-4dc8-b6a1-6462580abf3a\" class=\"colab-df-container\">\n",
              "    <div>\n",
              "<style scoped>\n",
              "    .dataframe tbody tr th:only-of-type {\n",
              "        vertical-align: middle;\n",
              "    }\n",
              "\n",
              "    .dataframe tbody tr th {\n",
              "        vertical-align: top;\n",
              "    }\n",
              "\n",
              "    .dataframe thead th {\n",
              "        text-align: right;\n",
              "    }\n",
              "</style>\n",
              "<table border=\"1\" class=\"dataframe\">\n",
              "  <thead>\n",
              "    <tr style=\"text-align: right;\">\n",
              "      <th></th>\n",
              "      <th>x1</th>\n",
              "      <th>x2</th>\n",
              "      <th>y</th>\n",
              "    </tr>\n",
              "  </thead>\n",
              "  <tbody>\n",
              "    <tr>\n",
              "      <th>995</th>\n",
              "      <td>-0.942094</td>\n",
              "      <td>-0.835856</td>\n",
              "      <td>-22.324428</td>\n",
              "    </tr>\n",
              "    <tr>\n",
              "      <th>996</th>\n",
              "      <td>1.222445</td>\n",
              "      <td>-0.403177</td>\n",
              "      <td>-52.121493</td>\n",
              "    </tr>\n",
              "    <tr>\n",
              "      <th>997</th>\n",
              "      <td>-0.112466</td>\n",
              "      <td>-1.688230</td>\n",
              "      <td>-57.043196</td>\n",
              "    </tr>\n",
              "    <tr>\n",
              "      <th>998</th>\n",
              "      <td>-0.403459</td>\n",
              "      <td>-0.412272</td>\n",
              "      <td>-27.701833</td>\n",
              "    </tr>\n",
              "    <tr>\n",
              "      <th>999</th>\n",
              "      <td>0.021351</td>\n",
              "      <td>-0.499017</td>\n",
              "      <td>-9.804714</td>\n",
              "    </tr>\n",
              "  </tbody>\n",
              "</table>\n",
              "</div>\n",
              "    <div class=\"colab-df-buttons\">\n",
              "\n",
              "  <div class=\"colab-df-container\">\n",
              "    <button class=\"colab-df-convert\" onclick=\"convertToInteractive('df-68b767ca-0e2a-4dc8-b6a1-6462580abf3a')\"\n",
              "            title=\"Convert this dataframe to an interactive table.\"\n",
              "            style=\"display:none;\">\n",
              "\n",
              "  <svg xmlns=\"http://www.w3.org/2000/svg\" height=\"24px\" viewBox=\"0 -960 960 960\">\n",
              "    <path d=\"M120-120v-720h720v720H120Zm60-500h600v-160H180v160Zm220 220h160v-160H400v160Zm0 220h160v-160H400v160ZM180-400h160v-160H180v160Zm440 0h160v-160H620v160ZM180-180h160v-160H180v160Zm440 0h160v-160H620v160Z\"/>\n",
              "  </svg>\n",
              "    </button>\n",
              "\n",
              "  <style>\n",
              "    .colab-df-container {\n",
              "      display:flex;\n",
              "      gap: 12px;\n",
              "    }\n",
              "\n",
              "    .colab-df-convert {\n",
              "      background-color: #E8F0FE;\n",
              "      border: none;\n",
              "      border-radius: 50%;\n",
              "      cursor: pointer;\n",
              "      display: none;\n",
              "      fill: #1967D2;\n",
              "      height: 32px;\n",
              "      padding: 0 0 0 0;\n",
              "      width: 32px;\n",
              "    }\n",
              "\n",
              "    .colab-df-convert:hover {\n",
              "      background-color: #E2EBFA;\n",
              "      box-shadow: 0px 1px 2px rgba(60, 64, 67, 0.3), 0px 1px 3px 1px rgba(60, 64, 67, 0.15);\n",
              "      fill: #174EA6;\n",
              "    }\n",
              "\n",
              "    .colab-df-buttons div {\n",
              "      margin-bottom: 4px;\n",
              "    }\n",
              "\n",
              "    [theme=dark] .colab-df-convert {\n",
              "      background-color: #3B4455;\n",
              "      fill: #D2E3FC;\n",
              "    }\n",
              "\n",
              "    [theme=dark] .colab-df-convert:hover {\n",
              "      background-color: #434B5C;\n",
              "      box-shadow: 0px 1px 3px 1px rgba(0, 0, 0, 0.15);\n",
              "      filter: drop-shadow(0px 1px 2px rgba(0, 0, 0, 0.3));\n",
              "      fill: #FFFFFF;\n",
              "    }\n",
              "  </style>\n",
              "\n",
              "    <script>\n",
              "      const buttonEl =\n",
              "        document.querySelector('#df-68b767ca-0e2a-4dc8-b6a1-6462580abf3a button.colab-df-convert');\n",
              "      buttonEl.style.display =\n",
              "        google.colab.kernel.accessAllowed ? 'block' : 'none';\n",
              "\n",
              "      async function convertToInteractive(key) {\n",
              "        const element = document.querySelector('#df-68b767ca-0e2a-4dc8-b6a1-6462580abf3a');\n",
              "        const dataTable =\n",
              "          await google.colab.kernel.invokeFunction('convertToInteractive',\n",
              "                                                    [key], {});\n",
              "        if (!dataTable) return;\n",
              "\n",
              "        const docLinkHtml = 'Like what you see? Visit the ' +\n",
              "          '<a target=\"_blank\" href=https://colab.research.google.com/notebooks/data_table.ipynb>data table notebook</a>'\n",
              "          + ' to learn more about interactive tables.';\n",
              "        element.innerHTML = '';\n",
              "        dataTable['output_type'] = 'display_data';\n",
              "        await google.colab.output.renderOutput(dataTable, element);\n",
              "        const docLink = document.createElement('div');\n",
              "        docLink.innerHTML = docLinkHtml;\n",
              "        element.appendChild(docLink);\n",
              "      }\n",
              "    </script>\n",
              "  </div>\n",
              "\n",
              "\n",
              "<div id=\"df-d2075d88-f71f-43cc-8417-d5057f818600\">\n",
              "  <button class=\"colab-df-quickchart\" onclick=\"quickchart('df-d2075d88-f71f-43cc-8417-d5057f818600')\"\n",
              "            title=\"Suggest charts\"\n",
              "            style=\"display:none;\">\n",
              "\n",
              "<svg xmlns=\"http://www.w3.org/2000/svg\" height=\"24px\"viewBox=\"0 0 24 24\"\n",
              "     width=\"24px\">\n",
              "    <g>\n",
              "        <path d=\"M19 3H5c-1.1 0-2 .9-2 2v14c0 1.1.9 2 2 2h14c1.1 0 2-.9 2-2V5c0-1.1-.9-2-2-2zM9 17H7v-7h2v7zm4 0h-2V7h2v10zm4 0h-2v-4h2v4z\"/>\n",
              "    </g>\n",
              "</svg>\n",
              "  </button>\n",
              "\n",
              "<style>\n",
              "  .colab-df-quickchart {\n",
              "      --bg-color: #E8F0FE;\n",
              "      --fill-color: #1967D2;\n",
              "      --hover-bg-color: #E2EBFA;\n",
              "      --hover-fill-color: #174EA6;\n",
              "      --disabled-fill-color: #AAA;\n",
              "      --disabled-bg-color: #DDD;\n",
              "  }\n",
              "\n",
              "  [theme=dark] .colab-df-quickchart {\n",
              "      --bg-color: #3B4455;\n",
              "      --fill-color: #D2E3FC;\n",
              "      --hover-bg-color: #434B5C;\n",
              "      --hover-fill-color: #FFFFFF;\n",
              "      --disabled-bg-color: #3B4455;\n",
              "      --disabled-fill-color: #666;\n",
              "  }\n",
              "\n",
              "  .colab-df-quickchart {\n",
              "    background-color: var(--bg-color);\n",
              "    border: none;\n",
              "    border-radius: 50%;\n",
              "    cursor: pointer;\n",
              "    display: none;\n",
              "    fill: var(--fill-color);\n",
              "    height: 32px;\n",
              "    padding: 0;\n",
              "    width: 32px;\n",
              "  }\n",
              "\n",
              "  .colab-df-quickchart:hover {\n",
              "    background-color: var(--hover-bg-color);\n",
              "    box-shadow: 0 1px 2px rgba(60, 64, 67, 0.3), 0 1px 3px 1px rgba(60, 64, 67, 0.15);\n",
              "    fill: var(--button-hover-fill-color);\n",
              "  }\n",
              "\n",
              "  .colab-df-quickchart-complete:disabled,\n",
              "  .colab-df-quickchart-complete:disabled:hover {\n",
              "    background-color: var(--disabled-bg-color);\n",
              "    fill: var(--disabled-fill-color);\n",
              "    box-shadow: none;\n",
              "  }\n",
              "\n",
              "  .colab-df-spinner {\n",
              "    border: 2px solid var(--fill-color);\n",
              "    border-color: transparent;\n",
              "    border-bottom-color: var(--fill-color);\n",
              "    animation:\n",
              "      spin 1s steps(1) infinite;\n",
              "  }\n",
              "\n",
              "  @keyframes spin {\n",
              "    0% {\n",
              "      border-color: transparent;\n",
              "      border-bottom-color: var(--fill-color);\n",
              "      border-left-color: var(--fill-color);\n",
              "    }\n",
              "    20% {\n",
              "      border-color: transparent;\n",
              "      border-left-color: var(--fill-color);\n",
              "      border-top-color: var(--fill-color);\n",
              "    }\n",
              "    30% {\n",
              "      border-color: transparent;\n",
              "      border-left-color: var(--fill-color);\n",
              "      border-top-color: var(--fill-color);\n",
              "      border-right-color: var(--fill-color);\n",
              "    }\n",
              "    40% {\n",
              "      border-color: transparent;\n",
              "      border-right-color: var(--fill-color);\n",
              "      border-top-color: var(--fill-color);\n",
              "    }\n",
              "    60% {\n",
              "      border-color: transparent;\n",
              "      border-right-color: var(--fill-color);\n",
              "    }\n",
              "    80% {\n",
              "      border-color: transparent;\n",
              "      border-right-color: var(--fill-color);\n",
              "      border-bottom-color: var(--fill-color);\n",
              "    }\n",
              "    90% {\n",
              "      border-color: transparent;\n",
              "      border-bottom-color: var(--fill-color);\n",
              "    }\n",
              "  }\n",
              "</style>\n",
              "\n",
              "  <script>\n",
              "    async function quickchart(key) {\n",
              "      const quickchartButtonEl =\n",
              "        document.querySelector('#' + key + ' button');\n",
              "      quickchartButtonEl.disabled = true;  // To prevent multiple clicks.\n",
              "      quickchartButtonEl.classList.add('colab-df-spinner');\n",
              "      try {\n",
              "        const charts = await google.colab.kernel.invokeFunction(\n",
              "            'suggestCharts', [key], {});\n",
              "      } catch (error) {\n",
              "        console.error('Error during call to suggestCharts:', error);\n",
              "      }\n",
              "      quickchartButtonEl.classList.remove('colab-df-spinner');\n",
              "      quickchartButtonEl.classList.add('colab-df-quickchart-complete');\n",
              "    }\n",
              "    (() => {\n",
              "      let quickchartButtonEl =\n",
              "        document.querySelector('#df-d2075d88-f71f-43cc-8417-d5057f818600 button');\n",
              "      quickchartButtonEl.style.display =\n",
              "        google.colab.kernel.accessAllowed ? 'block' : 'none';\n",
              "    })();\n",
              "  </script>\n",
              "</div>\n",
              "\n",
              "    </div>\n",
              "  </div>\n"
            ],
            "application/vnd.google.colaboratory.intrinsic+json": {
              "type": "dataframe",
              "summary": "{\n  \"name\": \"df\",\n  \"rows\": 5,\n  \"fields\": [\n    {\n      \"column\": \"x1\",\n      \"properties\": {\n        \"dtype\": \"number\",\n        \"std\": 0.7982195517976725,\n        \"min\": -0.942093589,\n        \"max\": 1.22244507,\n        \"num_unique_values\": 5,\n        \"samples\": [\n          1.22244507,\n          0.021351224,\n          -0.112465983\n        ],\n        \"semantic_type\": \"\",\n        \"description\": \"\"\n      }\n    },\n    {\n      \"column\": \"x2\",\n      \"properties\": {\n        \"dtype\": \"number\",\n        \"std\": 0.5439250462879333,\n        \"min\": -1.688230028,\n        \"max\": -0.403176947,\n        \"num_unique_values\": 5,\n        \"samples\": [\n          -0.403176947,\n          -0.499016638,\n          -1.688230028\n        ],\n        \"semantic_type\": \"\",\n        \"description\": \"\"\n      }\n    },\n    {\n      \"column\": \"y\",\n      \"properties\": {\n        \"dtype\": \"number\",\n        \"std\": 20.128173114723236,\n        \"min\": -57.04319598,\n        \"max\": -9.804714077,\n        \"num_unique_values\": 5,\n        \"samples\": [\n          -52.12149344,\n          -9.804714077,\n          -57.04319598\n        ],\n        \"semantic_type\": \"\",\n        \"description\": \"\"\n      }\n    }\n  ]\n}"
            }
          },
          "metadata": {},
          "execution_count": 4
        }
      ],
      "source": [
        "df = pd.read_csv('./datasets/linreg-data.csv', index_col=0)\n",
        "df.tail()"
      ]
    },
    {
      "cell_type": "code",
      "execution_count": null,
      "metadata": {
        "id": "KLNyDgiayxTj"
      },
      "outputs": [],
      "source": [
        "# Assign features and target\n",
        "\n",
        "X = torch.tensor(df[['x1', 'x2']].values, dtype=torch.float)\n",
        "y = torch.tensor(df['y'].values, dtype=torch.float)\n",
        "\n",
        "# Shuffling & train/test split\n",
        "\n",
        "torch.manual_seed(123)\n",
        "shuffle_idx = torch.randperm(y.size(0), dtype=torch.long)\n",
        "\n",
        "X, y = X[shuffle_idx], y[shuffle_idx]\n",
        "\n",
        "percent70 = int(shuffle_idx.size(0)*0.7)\n",
        "\n",
        "X_train, X_test = X[shuffle_idx[:percent70]], X[shuffle_idx[percent70:]]\n",
        "y_train, y_test = y[shuffle_idx[:percent70]], y[shuffle_idx[percent70:]]\n",
        "\n",
        "# Normalize (mean zero, unit variance)\n",
        "\n",
        "mu, sigma = X_train.mean(dim=0), X_train.std(dim=0)\n",
        "X_train = (X_train - mu) / sigma\n",
        "X_test = (X_test - mu) / sigma"
      ]
    },
    {
      "cell_type": "markdown",
      "metadata": {
        "id": "2RkxgXuHyxTj"
      },
      "source": [
        "<br>\n",
        "<br>"
      ]
    },
    {
      "cell_type": "markdown",
      "metadata": {
        "id": "w4ys2k_ayxTj"
      },
      "source": [
        "## Implement Linear Regression Model"
      ]
    },
    {
      "cell_type": "code",
      "execution_count": null,
      "metadata": {
        "id": "YLFynaxSyxTj"
      },
      "outputs": [],
      "source": [
        "class LinearRegression1():\n",
        "    def __init__(self, num_features):\n",
        "        self.num_features = num_features\n",
        "        self.weights = torch.zeros(num_features, 1,\n",
        "                                   dtype=torch.float)\n",
        "        self.bias = torch.zeros(1, dtype=torch.float)\n",
        "\n",
        "    def forward(self, x):\n",
        "        netinputs = torch.add(torch.mm(x, self.weights), self.bias)\n",
        "        activations = netinputs\n",
        "        return activations.view(-1)\n",
        "\n",
        "    def backward(self, x, yhat, y):\n",
        "\n",
        "        grad_loss_yhat = 2*(y - yhat)\n",
        "\n",
        "        grad_yhat_weights = -x\n",
        "        grad_yhat_bias = -1.\n",
        "\n",
        "        # Chain rule: inner times outer\n",
        "        grad_loss_weights =  torch.mm(grad_yhat_weights.t(),\n",
        "                                         grad_loss_yhat.view(-1, 1)) / y.size(0)\n",
        "\n",
        "        grad_loss_bias = torch.sum(grad_yhat_bias*grad_loss_yhat) / y.size(0)\n",
        "\n",
        "        # return negative gradient\n",
        "        return (-1)*grad_loss_weights, (-1)*grad_loss_bias"
      ]
    },
    {
      "cell_type": "markdown",
      "metadata": {
        "id": "r3w_TPnxyxTj"
      },
      "source": [
        "<br>\n",
        "<br>"
      ]
    },
    {
      "cell_type": "markdown",
      "metadata": {
        "id": "WIMsPU-LyxTj"
      },
      "source": [
        "## Define Training and Evaluation Functions"
      ]
    },
    {
      "cell_type": "code",
      "execution_count": null,
      "metadata": {
        "id": "agpjNQ8NyxTj"
      },
      "outputs": [],
      "source": [
        "####################################################\n",
        "##### Training and evaluation wrappers\n",
        "###################################################\n",
        "\n",
        "def loss(yhat, y):\n",
        "    return torch.mean((yhat - y)**2)\n",
        "\n",
        "\n",
        "def train(model, x, y, num_epochs, learning_rate=0.01):\n",
        "    cost = []\n",
        "    for e in range(num_epochs):\n",
        "\n",
        "        #### Compute outputs ####\n",
        "        yhat = model.forward(x)\n",
        "\n",
        "        #### Compute gradients ####\n",
        "        negative_grad_w, negative_grad_b = model.backward(x, yhat, y)\n",
        "\n",
        "        #### Update weights ####\n",
        "        model.weights += learning_rate * negative_grad_w\n",
        "        model.bias += learning_rate * negative_grad_b\n",
        "\n",
        "        #### Logging ####\n",
        "        yhat = model.forward(x) # not that this is a bit wasteful here\n",
        "        curr_loss = loss(yhat, y)\n",
        "        print('Epoch: %03d' % (e+1), end=\"\")\n",
        "        print(' | MSE: %.5f' % curr_loss)\n",
        "        cost.append(curr_loss)\n",
        "\n",
        "    return cost"
      ]
    },
    {
      "cell_type": "markdown",
      "metadata": {
        "id": "TA2uc60HyxTj"
      },
      "source": [
        "<br>\n",
        "<br>"
      ]
    },
    {
      "cell_type": "markdown",
      "metadata": {
        "id": "g4PSt2dPyxTj"
      },
      "source": [
        "## Train Linear Regression Model"
      ]
    },
    {
      "cell_type": "code",
      "execution_count": null,
      "metadata": {
        "colab": {
          "base_uri": "https://localhost:8080/"
        },
        "id": "e4aLGwKEyxTj",
        "outputId": "7a89d702-5e6f-4b8d-88bc-43ac273fa3ad"
      },
      "outputs": [
        {
          "output_type": "stream",
          "name": "stdout",
          "text": [
            "Epoch: 001 | MSE: 1532.67603\n",
            "Epoch: 002 | MSE: 1312.39868\n",
            "Epoch: 003 | MSE: 1133.91809\n",
            "Epoch: 004 | MSE: 989.30286\n",
            "Epoch: 005 | MSE: 872.12592\n",
            "Epoch: 006 | MSE: 777.18097\n",
            "Epoch: 007 | MSE: 700.24915\n",
            "Epoch: 008 | MSE: 637.91241\n",
            "Epoch: 009 | MSE: 587.40167\n",
            "Epoch: 010 | MSE: 546.47284\n",
            "Epoch: 011 | MSE: 513.30811\n",
            "Epoch: 012 | MSE: 486.43430\n",
            "Epoch: 013 | MSE: 464.65799\n",
            "Epoch: 014 | MSE: 447.01224\n",
            "Epoch: 015 | MSE: 432.71332\n",
            "Epoch: 016 | MSE: 421.12634\n",
            "Epoch: 017 | MSE: 411.73697\n",
            "Epoch: 018 | MSE: 404.12827\n",
            "Epoch: 019 | MSE: 397.96249\n",
            "Epoch: 020 | MSE: 392.96603\n",
            "Epoch: 021 | MSE: 388.91708\n",
            "Epoch: 022 | MSE: 385.63583\n",
            "Epoch: 023 | MSE: 382.97684\n",
            "Epoch: 024 | MSE: 380.82202\n",
            "Epoch: 025 | MSE: 379.07571\n",
            "Epoch: 026 | MSE: 377.66052\n",
            "Epoch: 027 | MSE: 376.51367\n",
            "Epoch: 028 | MSE: 375.58420\n",
            "Epoch: 029 | MSE: 374.83102\n",
            "Epoch: 030 | MSE: 374.22055\n",
            "Epoch: 031 | MSE: 373.72586\n",
            "Epoch: 032 | MSE: 373.32489\n",
            "Epoch: 033 | MSE: 372.99994\n",
            "Epoch: 034 | MSE: 372.73657\n",
            "Epoch: 035 | MSE: 372.52313\n",
            "Epoch: 036 | MSE: 372.35016\n",
            "Epoch: 037 | MSE: 372.20999\n",
            "Epoch: 038 | MSE: 372.09637\n",
            "Epoch: 039 | MSE: 372.00427\n",
            "Epoch: 040 | MSE: 371.92963\n",
            "Epoch: 041 | MSE: 371.86914\n",
            "Epoch: 042 | MSE: 371.82010\n",
            "Epoch: 043 | MSE: 371.78036\n",
            "Epoch: 044 | MSE: 371.74814\n",
            "Epoch: 045 | MSE: 371.72202\n",
            "Epoch: 046 | MSE: 371.70090\n",
            "Epoch: 047 | MSE: 371.68372\n",
            "Epoch: 048 | MSE: 371.66983\n",
            "Epoch: 049 | MSE: 371.65854\n",
            "Epoch: 050 | MSE: 371.64941\n",
            "Epoch: 051 | MSE: 371.64206\n",
            "Epoch: 052 | MSE: 371.63602\n",
            "Epoch: 053 | MSE: 371.63116\n",
            "Epoch: 054 | MSE: 371.62723\n",
            "Epoch: 055 | MSE: 371.62402\n",
            "Epoch: 056 | MSE: 371.62146\n",
            "Epoch: 057 | MSE: 371.61929\n",
            "Epoch: 058 | MSE: 371.61765\n",
            "Epoch: 059 | MSE: 371.61621\n",
            "Epoch: 060 | MSE: 371.61511\n",
            "Epoch: 061 | MSE: 371.61423\n",
            "Epoch: 062 | MSE: 371.61349\n",
            "Epoch: 063 | MSE: 371.61292\n",
            "Epoch: 064 | MSE: 371.61243\n",
            "Epoch: 065 | MSE: 371.61200\n",
            "Epoch: 066 | MSE: 371.61169\n",
            "Epoch: 067 | MSE: 371.61145\n",
            "Epoch: 068 | MSE: 371.61124\n",
            "Epoch: 069 | MSE: 371.61108\n",
            "Epoch: 070 | MSE: 371.61093\n",
            "Epoch: 071 | MSE: 371.61081\n",
            "Epoch: 072 | MSE: 371.61072\n",
            "Epoch: 073 | MSE: 371.61066\n",
            "Epoch: 074 | MSE: 371.61060\n",
            "Epoch: 075 | MSE: 371.61057\n",
            "Epoch: 076 | MSE: 371.61053\n",
            "Epoch: 077 | MSE: 371.61050\n",
            "Epoch: 078 | MSE: 371.61047\n",
            "Epoch: 079 | MSE: 371.61041\n",
            "Epoch: 080 | MSE: 371.61041\n",
            "Epoch: 081 | MSE: 371.61041\n",
            "Epoch: 082 | MSE: 371.61041\n",
            "Epoch: 083 | MSE: 371.61041\n",
            "Epoch: 084 | MSE: 371.61041\n",
            "Epoch: 085 | MSE: 371.61035\n",
            "Epoch: 086 | MSE: 371.61035\n",
            "Epoch: 087 | MSE: 371.61038\n",
            "Epoch: 088 | MSE: 371.61035\n",
            "Epoch: 089 | MSE: 371.61032\n",
            "Epoch: 090 | MSE: 371.61032\n",
            "Epoch: 091 | MSE: 371.61035\n",
            "Epoch: 092 | MSE: 371.61035\n",
            "Epoch: 093 | MSE: 371.61032\n",
            "Epoch: 094 | MSE: 371.61032\n",
            "Epoch: 095 | MSE: 371.61035\n",
            "Epoch: 096 | MSE: 371.61035\n",
            "Epoch: 097 | MSE: 371.61032\n",
            "Epoch: 098 | MSE: 371.61035\n",
            "Epoch: 099 | MSE: 371.61035\n",
            "Epoch: 100 | MSE: 371.61035\n"
          ]
        }
      ],
      "source": [
        "model = LinearRegression1(num_features=X_train.size(1))\n",
        "cost = train(model,\n",
        "             X_train, y_train,\n",
        "             num_epochs=100,\n",
        "             learning_rate=0.05)"
      ]
    },
    {
      "cell_type": "markdown",
      "metadata": {
        "id": "vsPKGXWkyxTj"
      },
      "source": [
        "<br>\n",
        "<br>"
      ]
    },
    {
      "cell_type": "markdown",
      "metadata": {
        "id": "lFePcI-yyxTk"
      },
      "source": [
        "## Evaluate Linear Regression Model"
      ]
    },
    {
      "cell_type": "markdown",
      "metadata": {
        "id": "6jfPB0L4yxTk"
      },
      "source": [
        "### Plot MSE"
      ]
    },
    {
      "cell_type": "code",
      "execution_count": null,
      "metadata": {
        "colab": {
          "base_uri": "https://localhost:8080/",
          "height": 449
        },
        "id": "fJ_ljHgVyxTk",
        "outputId": "996ef427-17e2-4cc2-b036-67cf6ad79d51"
      },
      "outputs": [
        {
          "output_type": "display_data",
          "data": {
            "text/plain": [
              "<Figure size 640x480 with 1 Axes>"
            ],
            "image/png": "[encoded data removed]"
          },
          "metadata": {}
        }
      ],
      "source": [
        "plt.plot(range(len(cost)), cost)\n",
        "plt.ylabel('Mean Squared Error')\n",
        "plt.xlabel('Epoch')\n",
        "plt.show()"
      ]
    },
    {
      "cell_type": "code",
      "execution_count": null,
      "metadata": {
        "colab": {
          "base_uri": "https://localhost:8080/"
        },
        "id": "wNh6Se-nyxTk",
        "outputId": "444518ba-5107-4d02-9954-4db77b271796"
      },
      "outputs": [
        {
          "output_type": "stream",
          "name": "stdout",
          "text": [
            "Train MSE: 371.61035\n",
            "Test MSE: 406.88412\n"
          ]
        }
      ],
      "source": [
        "train_pred = model.forward(X_train)\n",
        "test_pred = model.forward(X_test)\n",
        "\n",
        "print('Train MSE: %.5f' % loss(train_pred, y_train))\n",
        "print('Test MSE: %.5f' % loss(test_pred, y_test))"
      ]
    },
    {
      "cell_type": "markdown",
      "metadata": {
        "id": "qGug_sfwyxTk"
      },
      "source": [
        "<br>\n",
        "<br>"
      ]
    },
    {
      "cell_type": "markdown",
      "metadata": {
        "id": "4kvmurV0yxTk"
      },
      "source": [
        "### Compare with analytical solution"
      ]
    },
    {
      "cell_type": "code",
      "execution_count": null,
      "metadata": {
        "colab": {
          "base_uri": "https://localhost:8080/"
        },
        "id": "48egiyI-yxTk",
        "outputId": "569c21d6-152e-4f70-8aaa-ba60fa4b1504"
      },
      "outputs": [
        {
          "output_type": "stream",
          "name": "stdout",
          "text": [
            "Weights tensor([[ 0.3623],\n",
            "        [37.8790]])\n",
            "Bias tensor([-0.5464])\n"
          ]
        }
      ],
      "source": [
        "print('Weights', model.weights)\n",
        "print('Bias', model.bias)"
      ]
    },
    {
      "cell_type": "code",
      "execution_count": null,
      "metadata": {
        "colab": {
          "base_uri": "https://localhost:8080/"
        },
        "id": "_x543fzdyxTk",
        "outputId": "52b0c2b4-b604-4272-db8b-8fc7d142aefa"
      },
      "outputs": [
        {
          "output_type": "stream",
          "name": "stdout",
          "text": [
            "Analytical weights tensor([[ 0.3624],\n",
            "        [37.8801]])\n",
            "Analytical bias tensor([-0.5464])\n"
          ]
        }
      ],
      "source": [
        "def analytical_solution(x, y):\n",
        "    Xb = torch.cat( (torch.ones((x.size(0), 1)), x), dim=1)\n",
        "    w = torch.zeros(x.size(1))\n",
        "    z = torch.inverse(torch.matmul(Xb.t(), Xb))\n",
        "    params = torch.matmul(z, torch.matmul(Xb.t(), y))\n",
        "    b, w = torch.tensor([params[0]]), params[1:].view(x.size(1), 1)\n",
        "    return w, b\n",
        "\n",
        "w, b = analytical_solution(X_train, y_train)\n",
        "print('Analytical weights', w)\n",
        "print('Analytical bias', b)"
      ]
    },
    {
      "cell_type": "markdown",
      "metadata": {
        "id": "joOXsYUTyxTk"
      },
      "source": [
        "<br>\n",
        "<br>"
      ]
    },
    {
      "cell_type": "markdown",
      "metadata": {
        "id": "wCEz-S7pyxTk"
      },
      "source": [
        "## (Ungraded) HW Exercises"
      ]
    },
    {
      "cell_type": "markdown",
      "metadata": {
        "id": "HuUziT6TyxTk"
      },
      "source": [
        "Modify the `train()` function such that the dataset is shuffled prior to each epoch. Do you see a difference -- Yes/No? Try to come up with an explanation for your observation.\n",
        "\n"
      ]
    }
  ],
  "metadata": {
    "kernelspec": {
      "display_name": "Python 3",
      "language": "python",
      "name": "python3"
    },
    "language_info": {
      "codemirror_mode": {
        "name": "ipython",
        "version": 3
      },
      "file_extension": ".py",
      "mimetype": "text/x-python",
      "name": "python",
      "nbconvert_exporter": "python",
      "pygments_lexer": "ipython3",
      "version": "3.7.5"
    },
    "colab": {
      "provenance": [],
      "include_colab_link": true
    }
  },
  "nbformat": 4,
  "nbformat_minor": 0
}